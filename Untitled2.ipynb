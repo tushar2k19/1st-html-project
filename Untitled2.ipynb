{
  "nbformat": 4,
  "nbformat_minor": 0,
  "metadata": {
    "colab": {
      "provenance": [],
      "mount_file_id": "1j5YfHNuiPQ9nTJehtipRREuNo5IXEViG",
      "authorship_tag": "ABX9TyM9nU7wfyxEzQ9FKBXaDPDZ",
      "include_colab_link": true
    },
    "kernelspec": {
      "name": "python3",
      "display_name": "Python 3"
    },
    "language_info": {
      "name": "python"
    }
  },
  "cells": [
    {
      "cell_type": "markdown",
      "metadata": {
        "id": "view-in-github",
        "colab_type": "text"
      },
      "source": [
        "<a href=\"https://colab.research.google.com/github/tushar2k19/1st-html-project/blob/main/Untitled2.ipynb\" target=\"_parent\"><img src=\"https://colab.research.google.com/assets/colab-badge.svg\" alt=\"Open In Colab\"/></a>"
      ]
    },
    {
      "cell_type": "code",
      "execution_count": 2,
      "metadata": {
        "id": "aEP6pMApDSCj"
      },
      "outputs": [],
      "source": [
        "import matplotlib.pyplot as plt\n",
        "import numpy as np\n",
        "import cv2\n",
        "import os\n",
        "import PIL\n",
        "import tensorflow as tf\n",
        "\n",
        "from tensorflow import keras\n",
        "from tensorflow.keras import layers\n",
        "from tensorflow.keras.models import Sequential\n"
      ]
    },
    {
      "cell_type": "code",
      "source": [
        "from google.colab import drive\n",
        "drive.mount('/content/drive')"
      ],
      "metadata": {
        "colab": {
          "base_uri": "https://localhost:8080/"
        },
        "id": "CDqeeREODUVx",
        "outputId": "f47facd7-e34d-4640-879a-47a3ac045555"
      },
      "execution_count": 3,
      "outputs": [
        {
          "output_type": "stream",
          "name": "stdout",
          "text": [
            "Drive already mounted at /content/drive; to attempt to forcibly remount, call drive.mount(\"/content/drive\", force_remount=True).\n"
          ]
        }
      ]
    },
    {
      "cell_type": "code",
      "source": [
        "data_dir = \"/content/drive/MyDrive/Colab Notebooks/Major Dataset\"\n",
        "data_dir\n"
      ],
      "metadata": {
        "colab": {
          "base_uri": "https://localhost:8080/",
          "height": 36
        },
        "id": "Zyf6B5poDjum",
        "outputId": "10249b62-f144-4ee1-cc21-c813ca4bec5c"
      },
      "execution_count": 16,
      "outputs": [
        {
          "output_type": "execute_result",
          "data": {
            "text/plain": [
              "'/content/drive/MyDrive/Colab Notebooks/Major Dataset'"
            ],
            "application/vnd.google.colaboratory.intrinsic+json": {
              "type": "string"
            }
          },
          "metadata": {},
          "execution_count": 16
        }
      ]
    },
    {
      "cell_type": "code",
      "source": [
        "import pathlib\n",
        "data_dir = pathlib.Path(data_dir)\n",
        "data_dir"
      ],
      "metadata": {
        "colab": {
          "base_uri": "https://localhost:8080/"
        },
        "id": "efabhm_0EjZW",
        "outputId": "0c79ace4-0bb3-4a3b-d6d0-3878cae89bf7"
      },
      "execution_count": 17,
      "outputs": [
        {
          "output_type": "execute_result",
          "data": {
            "text/plain": [
              "PosixPath('/content/drive/MyDrive/Colab Notebooks/Major Dataset')"
            ]
          },
          "metadata": {},
          "execution_count": 17
        }
      ]
    },
    {
      "cell_type": "code",
      "source": [
        "image_count = len(list(data_dir.glob('*/*.png')))\n",
        "image_count"
      ],
      "metadata": {
        "colab": {
          "base_uri": "https://localhost:8080/"
        },
        "id": "CwmwOr7aEm--",
        "outputId": "987ca9cc-b9c7-4694-ed52-e031424be312"
      },
      "execution_count": 18,
      "outputs": [
        {
          "output_type": "execute_result",
          "data": {
            "text/plain": [
              "1295"
            ]
          },
          "metadata": {},
          "execution_count": 18
        }
      ]
    },
    {
      "cell_type": "code",
      "source": [
        "pip install Pillow"
      ],
      "metadata": {
        "colab": {
          "base_uri": "https://localhost:8080/"
        },
        "id": "aFo8gmNmEvBv",
        "outputId": "44f79b01-b6d7-49ce-d6bb-02d33f792632"
      },
      "execution_count": 19,
      "outputs": [
        {
          "output_type": "stream",
          "name": "stdout",
          "text": [
            "Looking in indexes: https://pypi.org/simple, https://us-python.pkg.dev/colab-wheels/public/simple/\n",
            "Requirement already satisfied: Pillow in /usr/local/lib/python3.7/dist-packages (7.1.2)\n"
          ]
        }
      ]
    },
    {
      "cell_type": "code",
      "source": [
        "disease_images_dict = {\n",
        "    'monkeypox': list(data_dir.glob('monkeypox-422/*')),\n",
        "    'chickenpox': list(data_dir.glob('others-314/*')),\n",
        "    'cowpox': list(data_dir.glob('cowpox-43/*')),\n",
        "    'healthy': list(data_dir.glob('healthy-293/*')),\n",
        "\n",
        "}"
      ],
      "metadata": {
        "id": "M8jg_se2k2Jc"
      },
      "execution_count": 22,
      "outputs": []
    },
    {
      "cell_type": "code",
      "source": [
        "len(disease_images_dict['healthy'])"
      ],
      "metadata": {
        "colab": {
          "base_uri": "https://localhost:8080/"
        },
        "id": "QTeqMG68lfO8",
        "outputId": "ba393210-103a-4312-dc7b-31e967a6dbea"
      },
      "execution_count": 26,
      "outputs": [
        {
          "output_type": "execute_result",
          "data": {
            "text/plain": [
              "293"
            ]
          },
          "metadata": {},
          "execution_count": 26
        }
      ]
    },
    {
      "cell_type": "code",
      "source": [
        "disease_labels_dict = {\n",
        "    'monkeypox': 0,\n",
        "    'chickenpox': 1,\n",
        "    'cowpox': 2,\n",
        "    'healthy': 3,\n",
        "}"
      ],
      "metadata": {
        "id": "g0VbBCjOmDG9"
      },
      "execution_count": 25,
      "outputs": []
    },
    {
      "cell_type": "code",
      "source": [
        "disease_images_dict['cowpox']"
      ],
      "metadata": {
        "colab": {
          "base_uri": "https://localhost:8080/"
        },
        "id": "7Hk2LBFMAci3",
        "outputId": "8db933a0-e5ad-4767-fd55-c7ceab6914ed"
      },
      "execution_count": 27,
      "outputs": [
        {
          "output_type": "execute_result",
          "data": {
            "text/plain": [
              "[PosixPath('/content/drive/MyDrive/Colab Notebooks/Major Dataset/cowpox-43/cowpox16.png'),\n",
              " PosixPath('/content/drive/MyDrive/Colab Notebooks/Major Dataset/cowpox-43/cowpox17.png'),\n",
              " PosixPath('/content/drive/MyDrive/Colab Notebooks/Major Dataset/cowpox-43/cowpox18.png'),\n",
              " PosixPath('/content/drive/MyDrive/Colab Notebooks/Major Dataset/cowpox-43/cowpox19.png'),\n",
              " PosixPath('/content/drive/MyDrive/Colab Notebooks/Major Dataset/cowpox-43/cowpox20.png'),\n",
              " PosixPath('/content/drive/MyDrive/Colab Notebooks/Major Dataset/cowpox-43/cowpox21.png'),\n",
              " PosixPath('/content/drive/MyDrive/Colab Notebooks/Major Dataset/cowpox-43/cowpox22.png'),\n",
              " PosixPath('/content/drive/MyDrive/Colab Notebooks/Major Dataset/cowpox-43/cowpox23.png'),\n",
              " PosixPath('/content/drive/MyDrive/Colab Notebooks/Major Dataset/cowpox-43/cowpox24.png'),\n",
              " PosixPath('/content/drive/MyDrive/Colab Notebooks/Major Dataset/cowpox-43/cowpox25.png'),\n",
              " PosixPath('/content/drive/MyDrive/Colab Notebooks/Major Dataset/cowpox-43/cowpox26.png'),\n",
              " PosixPath('/content/drive/MyDrive/Colab Notebooks/Major Dataset/cowpox-43/cowpox27.png'),\n",
              " PosixPath('/content/drive/MyDrive/Colab Notebooks/Major Dataset/cowpox-43/cowpox28.png'),\n",
              " PosixPath('/content/drive/MyDrive/Colab Notebooks/Major Dataset/cowpox-43/cowpox29.png'),\n",
              " PosixPath('/content/drive/MyDrive/Colab Notebooks/Major Dataset/cowpox-43/cowpox30.png'),\n",
              " PosixPath('/content/drive/MyDrive/Colab Notebooks/Major Dataset/cowpox-43/cowpox31.png'),\n",
              " PosixPath('/content/drive/MyDrive/Colab Notebooks/Major Dataset/cowpox-43/cowpox32.png'),\n",
              " PosixPath('/content/drive/MyDrive/Colab Notebooks/Major Dataset/cowpox-43/cowpox33.png'),\n",
              " PosixPath('/content/drive/MyDrive/Colab Notebooks/Major Dataset/cowpox-43/cowpox34.png'),\n",
              " PosixPath('/content/drive/MyDrive/Colab Notebooks/Major Dataset/cowpox-43/cowpox35.png'),\n",
              " PosixPath('/content/drive/MyDrive/Colab Notebooks/Major Dataset/cowpox-43/cowpox36.png'),\n",
              " PosixPath('/content/drive/MyDrive/Colab Notebooks/Major Dataset/cowpox-43/cowpox37.png'),\n",
              " PosixPath('/content/drive/MyDrive/Colab Notebooks/Major Dataset/cowpox-43/cowpox38.png'),\n",
              " PosixPath('/content/drive/MyDrive/Colab Notebooks/Major Dataset/cowpox-43/cowpox39.png'),\n",
              " PosixPath('/content/drive/MyDrive/Colab Notebooks/Major Dataset/cowpox-43/cowpox40.png'),\n",
              " PosixPath('/content/drive/MyDrive/Colab Notebooks/Major Dataset/cowpox-43/cowpox41.png'),\n",
              " PosixPath('/content/drive/MyDrive/Colab Notebooks/Major Dataset/cowpox-43/cowpox42.png'),\n",
              " PosixPath('/content/drive/MyDrive/Colab Notebooks/Major Dataset/cowpox-43/cowpox43.png'),\n",
              " PosixPath('/content/drive/MyDrive/Colab Notebooks/Major Dataset/cowpox-43/cowpox8.png'),\n",
              " PosixPath('/content/drive/MyDrive/Colab Notebooks/Major Dataset/cowpox-43/cowpox10.png'),\n",
              " PosixPath('/content/drive/MyDrive/Colab Notebooks/Major Dataset/cowpox-43/cowpox14.png'),\n",
              " PosixPath('/content/drive/MyDrive/Colab Notebooks/Major Dataset/cowpox-43/cowpox12.png'),\n",
              " PosixPath('/content/drive/MyDrive/Colab Notebooks/Major Dataset/cowpox-43/cowpox4.png'),\n",
              " PosixPath('/content/drive/MyDrive/Colab Notebooks/Major Dataset/cowpox-43/cowpox7.png'),\n",
              " PosixPath('/content/drive/MyDrive/Colab Notebooks/Major Dataset/cowpox-43/cowpox9.png'),\n",
              " PosixPath('/content/drive/MyDrive/Colab Notebooks/Major Dataset/cowpox-43/cowpox13.png'),\n",
              " PosixPath('/content/drive/MyDrive/Colab Notebooks/Major Dataset/cowpox-43/cowpox3.png'),\n",
              " PosixPath('/content/drive/MyDrive/Colab Notebooks/Major Dataset/cowpox-43/cowpox5.png'),\n",
              " PosixPath('/content/drive/MyDrive/Colab Notebooks/Major Dataset/cowpox-43/cowpox2.png'),\n",
              " PosixPath('/content/drive/MyDrive/Colab Notebooks/Major Dataset/cowpox-43/cowpox6.png'),\n",
              " PosixPath('/content/drive/MyDrive/Colab Notebooks/Major Dataset/cowpox-43/cowpox1.png'),\n",
              " PosixPath('/content/drive/MyDrive/Colab Notebooks/Major Dataset/cowpox-43/cowpox15.png'),\n",
              " PosixPath('/content/drive/MyDrive/Colab Notebooks/Major Dataset/cowpox-43/cowpox11.png')]"
            ]
          },
          "metadata": {},
          "execution_count": 27
        }
      ]
    },
    {
      "cell_type": "code",
      "source": [
        "img = cv2.imread(str(disease_images_dict['monkeypox'][0]))\n",
        "img.shape"
      ],
      "metadata": {
        "colab": {
          "base_uri": "https://localhost:8080/"
        },
        "id": "tuMpwLKhmvwb",
        "outputId": "12908153-cdf3-440c-b23e-b24af5b31ba8"
      },
      "execution_count": 28,
      "outputs": [
        {
          "output_type": "execute_result",
          "data": {
            "text/plain": [
              "(195, 258, 3)"
            ]
          },
          "metadata": {},
          "execution_count": 28
        }
      ]
    },
    {
      "cell_type": "code",
      "source": [
        "cv2.resize(img,(180,180)).shape"
      ],
      "metadata": {
        "colab": {
          "base_uri": "https://localhost:8080/"
        },
        "id": "YZl-5pzom-eV",
        "outputId": "eb7f6bf1-bdbe-4133-c7ad-fbecb81a9f8c"
      },
      "execution_count": 29,
      "outputs": [
        {
          "output_type": "execute_result",
          "data": {
            "text/plain": [
              "(180, 180, 3)"
            ]
          },
          "metadata": {},
          "execution_count": 29
        }
      ]
    },
    {
      "cell_type": "code",
      "source": [
        "X, y = [], []\n",
        "\n",
        "for disease, images in disease_images_dict.items():\n",
        "    for image in images:\n",
        "        img = cv2.imread(str(image)) \n",
        "        resized_img = cv2.resize(img,(180,180))\n",
        "        X.append(resized_img)\n",
        "        y.append(disease_images_dict[disease])"
      ],
      "metadata": {
        "id": "5drCuhKsuRCV"
      },
      "execution_count": 30,
      "outputs": []
    },
    {
      "cell_type": "code",
      "source": [
        "X = np.array(X)\n",
        "y = np.array(y)\n",
        "# X = np.asarray(X).astype('float32')"
      ],
      "metadata": {
        "id": "NgVWDv2uv7Kb",
        "colab": {
          "base_uri": "https://localhost:8080/"
        },
        "outputId": "a0058d6b-c7d5-4416-8a79-a57892619612"
      },
      "execution_count": 31,
      "outputs": [
        {
          "output_type": "stream",
          "name": "stderr",
          "text": [
            "/usr/local/lib/python3.7/dist-packages/ipykernel_launcher.py:2: VisibleDeprecationWarning: Creating an ndarray from ragged nested sequences (which is a list-or-tuple of lists-or-tuples-or ndarrays with different lengths or shapes) is deprecated. If you meant to do this, you must specify 'dtype=object' when creating the ndarray.\n",
            "  \n"
          ]
        }
      ]
    },
    {
      "cell_type": "code",
      "source": [
        "from sklearn.model_selection import train_test_split\n",
        "X_train, X_test, y_train, y_test = train_test_split(X, y, random_state=0)"
      ],
      "metadata": {
        "id": "CbTMoAD57RH4"
      },
      "execution_count": 32,
      "outputs": []
    },
    {
      "cell_type": "code",
      "source": [
        "len(X_test)"
      ],
      "metadata": {
        "colab": {
          "base_uri": "https://localhost:8080/"
        },
        "id": "-3G1UmEY7RQy",
        "outputId": "c922e14d-19b0-4953-b280-05daaea89b3d"
      },
      "execution_count": 33,
      "outputs": [
        {
          "output_type": "execute_result",
          "data": {
            "text/plain": [
              "193"
            ]
          },
          "metadata": {},
          "execution_count": 33
        }
      ]
    },
    {
      "cell_type": "code",
      "source": [
        "len(X_train)"
      ],
      "metadata": {
        "colab": {
          "base_uri": "https://localhost:8080/"
        },
        "id": "kOo1-eQL7Ykj",
        "outputId": "584e1954-c6b7-4f83-cc12-71cd8e76bea1"
      },
      "execution_count": 34,
      "outputs": [
        {
          "output_type": "execute_result",
          "data": {
            "text/plain": [
              "578"
            ]
          },
          "metadata": {},
          "execution_count": 34
        }
      ]
    },
    {
      "cell_type": "code",
      "source": [
        "X_train_scaled = X_train / 255\n",
        "X_test_scaled = X_test / 255\n",
        "\n",
        "X_train_scaled"
      ],
      "metadata": {
        "colab": {
          "base_uri": "https://localhost:8080/"
        },
        "id": "hYNnf_cL7dUC",
        "outputId": "b717c2e0-b25f-4f15-dde9-c9092bfad504"
      },
      "execution_count": 35,
      "outputs": [
        {
          "output_type": "execute_result",
          "data": {
            "text/plain": [
              "array([[[[0.66666667, 0.73333333, 0.81568627],\n",
              "         [0.68627451, 0.75294118, 0.83529412],\n",
              "         [0.67058824, 0.7372549 , 0.81960784],\n",
              "         ...,\n",
              "         [0.72156863, 0.71764706, 0.64705882],\n",
              "         [0.79215686, 0.79215686, 0.73333333],\n",
              "         [0.85098039, 0.85490196, 0.81568627]],\n",
              "\n",
              "        [[0.52941176, 0.58823529, 0.68235294],\n",
              "         [0.54117647, 0.60392157, 0.69803922],\n",
              "         [0.52941176, 0.59215686, 0.68627451],\n",
              "         ...,\n",
              "         [0.68627451, 0.68235294, 0.61960784],\n",
              "         [0.77647059, 0.78039216, 0.72941176],\n",
              "         [0.80392157, 0.81176471, 0.76862745]],\n",
              "\n",
              "        [[0.52941176, 0.58823529, 0.69411765],\n",
              "         [0.5372549 , 0.59607843, 0.69803922],\n",
              "         [0.53333333, 0.59215686, 0.69803922],\n",
              "         ...,\n",
              "         [0.84313725, 0.84313725, 0.78431373],\n",
              "         [0.94901961, 0.95294118, 0.90588235],\n",
              "         [0.9372549 , 0.94509804, 0.90588235]],\n",
              "\n",
              "        ...,\n",
              "\n",
              "        [[0.33333333, 0.43921569, 0.58823529],\n",
              "         [0.34509804, 0.45098039, 0.59215686],\n",
              "         [0.34901961, 0.45490196, 0.6       ],\n",
              "         ...,\n",
              "         [0.13333333, 0.20784314, 0.29411765],\n",
              "         [0.12941176, 0.20392157, 0.28627451],\n",
              "         [0.1254902 , 0.19215686, 0.2745098 ]],\n",
              "\n",
              "        [[0.34117647, 0.45098039, 0.60784314],\n",
              "         [0.34509804, 0.45490196, 0.60392157],\n",
              "         [0.34901961, 0.4627451 , 0.61176471],\n",
              "         ...,\n",
              "         [0.1372549 , 0.21176471, 0.29411765],\n",
              "         [0.13333333, 0.20784314, 0.28627451],\n",
              "         [0.12941176, 0.2       , 0.2745098 ]],\n",
              "\n",
              "        [[0.3372549 , 0.44705882, 0.60784314],\n",
              "         [0.32156863, 0.43529412, 0.59215686],\n",
              "         [0.32156863, 0.43529412, 0.58823529],\n",
              "         ...,\n",
              "         [0.10980392, 0.18823529, 0.2627451 ],\n",
              "         [0.10980392, 0.18823529, 0.25882353],\n",
              "         [0.10588235, 0.17254902, 0.24705882]]],\n",
              "\n",
              "\n",
              "       [[[0.9254902 , 0.89411765, 0.89411765],\n",
              "         [0.9254902 , 0.89411765, 0.89411765],\n",
              "         [0.9254902 , 0.89411765, 0.89411765],\n",
              "         ...,\n",
              "         [0.92941176, 0.90980392, 0.90588235],\n",
              "         [0.92941176, 0.90588235, 0.90588235],\n",
              "         [0.92941176, 0.90588235, 0.90980392]],\n",
              "\n",
              "        [[0.9254902 , 0.89411765, 0.89411765],\n",
              "         [0.9254902 , 0.89411765, 0.89411765],\n",
              "         [0.9254902 , 0.89411765, 0.89411765],\n",
              "         ...,\n",
              "         [0.92941176, 0.90980392, 0.90588235],\n",
              "         [0.92941176, 0.90588235, 0.90588235],\n",
              "         [0.92941176, 0.90588235, 0.90980392]],\n",
              "\n",
              "        [[0.9254902 , 0.89411765, 0.89411765],\n",
              "         [0.9254902 , 0.89411765, 0.89411765],\n",
              "         [0.9254902 , 0.89411765, 0.89411765],\n",
              "         ...,\n",
              "         [0.92941176, 0.90980392, 0.90588235],\n",
              "         [0.92941176, 0.90588235, 0.90588235],\n",
              "         [0.92941176, 0.90588235, 0.90980392]],\n",
              "\n",
              "        ...,\n",
              "\n",
              "        [[0.98039216, 0.97254902, 0.96862745],\n",
              "         [0.98039216, 0.97254902, 0.96862745],\n",
              "         [0.98039216, 0.97254902, 0.97254902],\n",
              "         ...,\n",
              "         [0.93333333, 0.90980392, 0.91372549],\n",
              "         [0.93333333, 0.90980392, 0.91372549],\n",
              "         [0.93333333, 0.90980392, 0.91372549]],\n",
              "\n",
              "        [[0.98039216, 0.97254902, 0.96862745],\n",
              "         [0.98039216, 0.97254902, 0.96862745],\n",
              "         [0.98039216, 0.97254902, 0.97254902],\n",
              "         ...,\n",
              "         [0.93333333, 0.90980392, 0.91372549],\n",
              "         [0.93333333, 0.90980392, 0.91372549],\n",
              "         [0.93333333, 0.90980392, 0.91372549]],\n",
              "\n",
              "        [[0.98039216, 0.97254902, 0.96862745],\n",
              "         [0.98039216, 0.97254902, 0.96862745],\n",
              "         [0.98431373, 0.97647059, 0.97254902],\n",
              "         ...,\n",
              "         [0.93333333, 0.90980392, 0.91372549],\n",
              "         [0.93333333, 0.90980392, 0.91372549],\n",
              "         [0.93333333, 0.90980392, 0.91372549]]],\n",
              "\n",
              "\n",
              "       [[[0.69019608, 0.69411765, 0.68235294],\n",
              "         [0.61960784, 0.63137255, 0.61568627],\n",
              "         [0.63529412, 0.65882353, 0.63529412],\n",
              "         ...,\n",
              "         [0.69803922, 0.70196078, 0.69019608],\n",
              "         [0.69411765, 0.70196078, 0.68627451],\n",
              "         [0.74509804, 0.81568627, 0.76470588]],\n",
              "\n",
              "        [[0.61176471, 0.62352941, 0.60784314],\n",
              "         [0.46666667, 0.48235294, 0.47843137],\n",
              "         [0.48627451, 0.49803922, 0.49019608],\n",
              "         ...,\n",
              "         [0.56470588, 0.56862745, 0.55294118],\n",
              "         [0.54509804, 0.55294118, 0.54117647],\n",
              "         [0.69019608, 0.69411765, 0.68235294]],\n",
              "\n",
              "        [[0.63137255, 0.65098039, 0.63137255],\n",
              "         [0.49803922, 0.50588235, 0.50196078],\n",
              "         [0.50588235, 0.51764706, 0.51372549],\n",
              "         ...,\n",
              "         [0.57254902, 0.57647059, 0.56078431],\n",
              "         [0.55686275, 0.56078431, 0.54901961],\n",
              "         [0.69019608, 0.69411765, 0.68235294]],\n",
              "\n",
              "        ...,\n",
              "\n",
              "        [[0.70980392, 0.72941176, 0.58039216],\n",
              "         [0.65490196, 0.66666667, 0.50980392],\n",
              "         [0.6627451 , 0.67843137, 0.51764706],\n",
              "         ...,\n",
              "         [0.25490196, 0.3372549 , 0.41960784],\n",
              "         [0.22745098, 0.29411765, 0.37254902],\n",
              "         [0.41176471, 0.45882353, 0.5254902 ]],\n",
              "\n",
              "        [[0.75686275, 0.81568627, 0.71372549],\n",
              "         [0.64313725, 0.65490196, 0.52941176],\n",
              "         [0.63529412, 0.64705882, 0.50980392],\n",
              "         ...,\n",
              "         [0.25882353, 0.36078431, 0.43921569],\n",
              "         [0.25098039, 0.33333333, 0.41960784],\n",
              "         [0.44313725, 0.49019608, 0.57254902]],\n",
              "\n",
              "        [[0.75686275, 0.83529412, 0.76078431],\n",
              "         [0.59607843, 0.60392157, 0.49411765],\n",
              "         [0.6       , 0.60784314, 0.48235294],\n",
              "         ...,\n",
              "         [0.25490196, 0.34901961, 0.42745098],\n",
              "         [0.24705882, 0.32156863, 0.41176471],\n",
              "         [0.44313725, 0.49019608, 0.57647059]]],\n",
              "\n",
              "\n",
              "       ...,\n",
              "\n",
              "\n",
              "       [[[0.18039216, 0.14901961, 0.15294118],\n",
              "         [0.18823529, 0.15686275, 0.16078431],\n",
              "         [0.19215686, 0.16078431, 0.16078431],\n",
              "         ...,\n",
              "         [0.2745098 , 0.36470588, 0.54509804],\n",
              "         [0.27058824, 0.36078431, 0.5372549 ],\n",
              "         [0.23137255, 0.32156863, 0.49803922]],\n",
              "\n",
              "        [[0.18039216, 0.14901961, 0.15294118],\n",
              "         [0.18823529, 0.15686275, 0.16078431],\n",
              "         [0.19215686, 0.16078431, 0.16078431],\n",
              "         ...,\n",
              "         [0.27843137, 0.36862745, 0.54509804],\n",
              "         [0.26666667, 0.35686275, 0.53333333],\n",
              "         [0.22352941, 0.31372549, 0.49019608]],\n",
              "\n",
              "        [[0.18039216, 0.14901961, 0.15294118],\n",
              "         [0.18823529, 0.15686275, 0.16078431],\n",
              "         [0.19215686, 0.16078431, 0.16078431],\n",
              "         ...,\n",
              "         [0.22352941, 0.31372549, 0.49019608],\n",
              "         [0.26666667, 0.35294118, 0.53333333],\n",
              "         [0.22745098, 0.31372549, 0.49019608]],\n",
              "\n",
              "        ...,\n",
              "\n",
              "        [[0.14901961, 0.11764706, 0.12156863],\n",
              "         [0.14901961, 0.11764706, 0.12156863],\n",
              "         [0.15294118, 0.11764706, 0.1254902 ],\n",
              "         ...,\n",
              "         [0.56862745, 0.63921569, 0.82352941],\n",
              "         [0.56862745, 0.64313725, 0.82745098],\n",
              "         [0.56078431, 0.64313725, 0.82352941]],\n",
              "\n",
              "        [[0.14901961, 0.11764706, 0.12156863],\n",
              "         [0.14901961, 0.11764706, 0.12156863],\n",
              "         [0.14901961, 0.11764706, 0.1254902 ],\n",
              "         ...,\n",
              "         [0.57254902, 0.64313725, 0.82745098],\n",
              "         [0.57254902, 0.64705882, 0.83137255],\n",
              "         [0.56078431, 0.65098039, 0.83137255]],\n",
              "\n",
              "        [[0.14901961, 0.11764706, 0.12156863],\n",
              "         [0.14901961, 0.11764706, 0.12156863],\n",
              "         [0.14901961, 0.11764706, 0.1254902 ],\n",
              "         ...,\n",
              "         [0.57647059, 0.64705882, 0.83137255],\n",
              "         [0.57647059, 0.65098039, 0.83529412],\n",
              "         [0.56470588, 0.65490196, 0.83529412]]],\n",
              "\n",
              "\n",
              "       [[[1.        , 1.        , 1.        ],\n",
              "         [1.        , 1.        , 1.        ],\n",
              "         [1.        , 1.        , 1.        ],\n",
              "         ...,\n",
              "         [1.        , 1.        , 1.        ],\n",
              "         [1.        , 1.        , 1.        ],\n",
              "         [1.        , 1.        , 1.        ]],\n",
              "\n",
              "        [[1.        , 1.        , 1.        ],\n",
              "         [1.        , 1.        , 1.        ],\n",
              "         [1.        , 1.        , 1.        ],\n",
              "         ...,\n",
              "         [1.        , 1.        , 1.        ],\n",
              "         [1.        , 1.        , 1.        ],\n",
              "         [1.        , 1.        , 1.        ]],\n",
              "\n",
              "        [[1.        , 1.        , 1.        ],\n",
              "         [1.        , 1.        , 1.        ],\n",
              "         [1.        , 1.        , 1.        ],\n",
              "         ...,\n",
              "         [1.        , 1.        , 1.        ],\n",
              "         [1.        , 1.        , 1.        ],\n",
              "         [1.        , 1.        , 1.        ]],\n",
              "\n",
              "        ...,\n",
              "\n",
              "        [[0.52156863, 0.65098039, 0.82745098],\n",
              "         [0.5372549 , 0.67058824, 0.83921569],\n",
              "         [0.56470588, 0.68627451, 0.85098039],\n",
              "         ...,\n",
              "         [0.72156863, 0.81568627, 0.94509804],\n",
              "         [0.72941176, 0.81568627, 0.94509804],\n",
              "         [0.7254902 , 0.80392157, 0.94117647]],\n",
              "\n",
              "        [[0.52156863, 0.65490196, 0.82745098],\n",
              "         [0.54509804, 0.68235294, 0.83921569],\n",
              "         [0.56862745, 0.69411765, 0.85098039],\n",
              "         ...,\n",
              "         [0.72941176, 0.82352941, 0.94901961],\n",
              "         [0.7254902 , 0.81568627, 0.94509804],\n",
              "         [0.71372549, 0.8       , 0.94117647]],\n",
              "\n",
              "        [[0.52156863, 0.65490196, 0.82745098],\n",
              "         [0.54509804, 0.68235294, 0.83921569],\n",
              "         [0.56862745, 0.69411765, 0.85098039],\n",
              "         ...,\n",
              "         [0.74901961, 0.82745098, 0.95686275],\n",
              "         [0.73333333, 0.81176471, 0.94509804],\n",
              "         [0.70588235, 0.79215686, 0.92941176]]],\n",
              "\n",
              "\n",
              "       [[[0.92941176, 0.97254902, 0.96078431],\n",
              "         [0.93333333, 0.97647059, 0.96470588],\n",
              "         [0.94117647, 0.98039216, 0.96862745],\n",
              "         ...,\n",
              "         [0.90980392, 0.95686275, 0.93333333],\n",
              "         [0.90196078, 0.94901961, 0.92941176],\n",
              "         [0.90196078, 0.94509804, 0.93333333]],\n",
              "\n",
              "        [[0.92941176, 0.97254902, 0.96078431],\n",
              "         [0.93333333, 0.97647059, 0.96470588],\n",
              "         [0.94509804, 0.98039216, 0.97254902],\n",
              "         ...,\n",
              "         [0.90980392, 0.95686275, 0.93333333],\n",
              "         [0.90588235, 0.94901961, 0.93333333],\n",
              "         [0.90196078, 0.94509804, 0.93333333]],\n",
              "\n",
              "        [[0.92941176, 0.97254902, 0.96078431],\n",
              "         [0.93333333, 0.97647059, 0.96470588],\n",
              "         [0.94509804, 0.98431373, 0.97254902],\n",
              "         ...,\n",
              "         [0.91372549, 0.96078431, 0.9372549 ],\n",
              "         [0.90980392, 0.95686275, 0.9372549 ],\n",
              "         [0.90980392, 0.95294118, 0.9372549 ]],\n",
              "\n",
              "        ...,\n",
              "\n",
              "        [[0.94509804, 0.98431373, 0.96078431],\n",
              "         [0.94901961, 0.98823529, 0.96470588],\n",
              "         [0.95686275, 0.99607843, 0.97254902],\n",
              "         ...,\n",
              "         [0.83921569, 0.88627451, 0.89411765],\n",
              "         [0.97254902, 0.99215686, 0.96470588],\n",
              "         [0.97254902, 0.99607843, 0.97647059]],\n",
              "\n",
              "        [[0.94509804, 0.98431373, 0.96078431],\n",
              "         [0.94901961, 0.98823529, 0.96470588],\n",
              "         [0.95686275, 0.99607843, 0.97254902],\n",
              "         ...,\n",
              "         [0.89019608, 0.92941176, 0.93333333],\n",
              "         [0.98039216, 0.99607843, 0.96078431],\n",
              "         [0.97254902, 0.99607843, 0.97647059]],\n",
              "\n",
              "        [[0.94509804, 0.98431373, 0.96078431],\n",
              "         [0.94901961, 0.98823529, 0.96470588],\n",
              "         [0.95686275, 0.99607843, 0.97254902],\n",
              "         ...,\n",
              "         [0.9254902 , 0.96078431, 0.95686275],\n",
              "         [0.97254902, 0.98823529, 0.96470588],\n",
              "         [0.97254902, 0.99607843, 0.97647059]]]])"
            ]
          },
          "metadata": {},
          "execution_count": 35
        }
      ]
    },
    {
      "cell_type": "code",
      "source": [
        "num_classes = 2\n",
        "\n",
        "model = Sequential([\n",
        "  layers.Conv2D(16, 3, padding='same', activation='relu'),\n",
        "  layers.MaxPooling2D(),\n",
        "  layers.Conv2D(32, 3, padding='same', activation='relu'),\n",
        "  layers.MaxPooling2D(),\n",
        "  layers.Conv2D(64, 3, padding='same', activation='relu'),\n",
        "  layers.MaxPooling2D(),\n",
        "  layers.Flatten(),\n",
        "  layers.Dense(400, activation='relu'),\n",
        "  layers.Dense(num_classes)\n",
        "])\n",
        "\n",
        "model.compile(optimizer='adam',\n",
        "              loss=tf.keras.losses.SparseCategoricalCrossentropy(from_logits=True),\n",
        "              metrics=['accuracy'])\n",
        "\n",
        "model.fit(X_train_scaled, y_train, epochs=30)   "
      ],
      "metadata": {
        "colab": {
          "base_uri": "https://localhost:8080/",
          "height": 345
        },
        "id": "6babylsg9PwJ",
        "outputId": "a2a1d0b3-d37d-4d20-98c7-cc4d36da6362"
      },
      "execution_count": 36,
      "outputs": [
        {
          "output_type": "error",
          "ename": "ValueError",
          "evalue": "ignored",
          "traceback": [
            "\u001b[0;31m---------------------------------------------------------------------------\u001b[0m",
            "\u001b[0;31mValueError\u001b[0m                                Traceback (most recent call last)",
            "\u001b[0;32m<ipython-input-36-c8517f796a20>\u001b[0m in \u001b[0;36m<module>\u001b[0;34m\u001b[0m\n\u001b[1;32m     17\u001b[0m               metrics=['accuracy'])\n\u001b[1;32m     18\u001b[0m \u001b[0;34m\u001b[0m\u001b[0m\n\u001b[0;32m---> 19\u001b[0;31m \u001b[0mmodel\u001b[0m\u001b[0;34m.\u001b[0m\u001b[0mfit\u001b[0m\u001b[0;34m(\u001b[0m\u001b[0mX_train_scaled\u001b[0m\u001b[0;34m,\u001b[0m \u001b[0my_train\u001b[0m\u001b[0;34m,\u001b[0m \u001b[0mepochs\u001b[0m\u001b[0;34m=\u001b[0m\u001b[0;36m30\u001b[0m\u001b[0;34m)\u001b[0m\u001b[0;34m\u001b[0m\u001b[0;34m\u001b[0m\u001b[0m\n\u001b[0m",
            "\u001b[0;32m/usr/local/lib/python3.7/dist-packages/keras/utils/traceback_utils.py\u001b[0m in \u001b[0;36merror_handler\u001b[0;34m(*args, **kwargs)\u001b[0m\n\u001b[1;32m     65\u001b[0m     \u001b[0;32mexcept\u001b[0m \u001b[0mException\u001b[0m \u001b[0;32mas\u001b[0m \u001b[0me\u001b[0m\u001b[0;34m:\u001b[0m  \u001b[0;31m# pylint: disable=broad-except\u001b[0m\u001b[0;34m\u001b[0m\u001b[0;34m\u001b[0m\u001b[0m\n\u001b[1;32m     66\u001b[0m       \u001b[0mfiltered_tb\u001b[0m \u001b[0;34m=\u001b[0m \u001b[0m_process_traceback_frames\u001b[0m\u001b[0;34m(\u001b[0m\u001b[0me\u001b[0m\u001b[0;34m.\u001b[0m\u001b[0m__traceback__\u001b[0m\u001b[0;34m)\u001b[0m\u001b[0;34m\u001b[0m\u001b[0;34m\u001b[0m\u001b[0m\n\u001b[0;32m---> 67\u001b[0;31m       \u001b[0;32mraise\u001b[0m \u001b[0me\u001b[0m\u001b[0;34m.\u001b[0m\u001b[0mwith_traceback\u001b[0m\u001b[0;34m(\u001b[0m\u001b[0mfiltered_tb\u001b[0m\u001b[0;34m)\u001b[0m \u001b[0;32mfrom\u001b[0m \u001b[0;32mNone\u001b[0m\u001b[0;34m\u001b[0m\u001b[0;34m\u001b[0m\u001b[0m\n\u001b[0m\u001b[1;32m     68\u001b[0m     \u001b[0;32mfinally\u001b[0m\u001b[0;34m:\u001b[0m\u001b[0;34m\u001b[0m\u001b[0;34m\u001b[0m\u001b[0m\n\u001b[1;32m     69\u001b[0m       \u001b[0;32mdel\u001b[0m \u001b[0mfiltered_tb\u001b[0m\u001b[0;34m\u001b[0m\u001b[0;34m\u001b[0m\u001b[0m\n",
            "\u001b[0;32m/usr/local/lib/python3.7/dist-packages/tensorflow/python/framework/constant_op.py\u001b[0m in \u001b[0;36mconvert_to_eager_tensor\u001b[0;34m(value, ctx, dtype)\u001b[0m\n\u001b[1;32m    100\u001b[0m       \u001b[0mdtype\u001b[0m \u001b[0;34m=\u001b[0m \u001b[0mdtypes\u001b[0m\u001b[0;34m.\u001b[0m\u001b[0mas_dtype\u001b[0m\u001b[0;34m(\u001b[0m\u001b[0mdtype\u001b[0m\u001b[0;34m)\u001b[0m\u001b[0;34m.\u001b[0m\u001b[0mas_datatype_enum\u001b[0m\u001b[0;34m\u001b[0m\u001b[0;34m\u001b[0m\u001b[0m\n\u001b[1;32m    101\u001b[0m   \u001b[0mctx\u001b[0m\u001b[0;34m.\u001b[0m\u001b[0mensure_initialized\u001b[0m\u001b[0;34m(\u001b[0m\u001b[0;34m)\u001b[0m\u001b[0;34m\u001b[0m\u001b[0;34m\u001b[0m\u001b[0m\n\u001b[0;32m--> 102\u001b[0;31m   \u001b[0;32mreturn\u001b[0m \u001b[0mops\u001b[0m\u001b[0;34m.\u001b[0m\u001b[0mEagerTensor\u001b[0m\u001b[0;34m(\u001b[0m\u001b[0mvalue\u001b[0m\u001b[0;34m,\u001b[0m \u001b[0mctx\u001b[0m\u001b[0;34m.\u001b[0m\u001b[0mdevice_name\u001b[0m\u001b[0;34m,\u001b[0m \u001b[0mdtype\u001b[0m\u001b[0;34m)\u001b[0m\u001b[0;34m\u001b[0m\u001b[0;34m\u001b[0m\u001b[0m\n\u001b[0m\u001b[1;32m    103\u001b[0m \u001b[0;34m\u001b[0m\u001b[0m\n\u001b[1;32m    104\u001b[0m \u001b[0;34m\u001b[0m\u001b[0m\n",
            "\u001b[0;31mValueError\u001b[0m: Failed to convert a NumPy array to a Tensor (Unsupported object type list)."
          ]
        }
      ]
    },
    {
      "cell_type": "code",
      "source": [
        "model.evaluate(X_test_scaled,y_test)"
      ],
      "metadata": {
        "id": "Fw37FY0LEOc1",
        "outputId": "ee06648d-21cd-4f9a-c50d-051a646c0639",
        "colab": {
          "base_uri": "https://localhost:8080/",
          "height": 311
        }
      },
      "execution_count": 37,
      "outputs": [
        {
          "output_type": "error",
          "ename": "ValueError",
          "evalue": "ignored",
          "traceback": [
            "\u001b[0;31m---------------------------------------------------------------------------\u001b[0m",
            "\u001b[0;31mValueError\u001b[0m                                Traceback (most recent call last)",
            "\u001b[0;32m<ipython-input-37-a9194cfbfc03>\u001b[0m in \u001b[0;36m<module>\u001b[0;34m\u001b[0m\n\u001b[0;32m----> 1\u001b[0;31m \u001b[0mmodel\u001b[0m\u001b[0;34m.\u001b[0m\u001b[0mevaluate\u001b[0m\u001b[0;34m(\u001b[0m\u001b[0mX_test_scaled\u001b[0m\u001b[0;34m,\u001b[0m\u001b[0my_test\u001b[0m\u001b[0;34m)\u001b[0m\u001b[0;34m\u001b[0m\u001b[0;34m\u001b[0m\u001b[0m\n\u001b[0m",
            "\u001b[0;32m/usr/local/lib/python3.7/dist-packages/keras/utils/traceback_utils.py\u001b[0m in \u001b[0;36merror_handler\u001b[0;34m(*args, **kwargs)\u001b[0m\n\u001b[1;32m     65\u001b[0m     \u001b[0;32mexcept\u001b[0m \u001b[0mException\u001b[0m \u001b[0;32mas\u001b[0m \u001b[0me\u001b[0m\u001b[0;34m:\u001b[0m  \u001b[0;31m# pylint: disable=broad-except\u001b[0m\u001b[0;34m\u001b[0m\u001b[0;34m\u001b[0m\u001b[0m\n\u001b[1;32m     66\u001b[0m       \u001b[0mfiltered_tb\u001b[0m \u001b[0;34m=\u001b[0m \u001b[0m_process_traceback_frames\u001b[0m\u001b[0;34m(\u001b[0m\u001b[0me\u001b[0m\u001b[0;34m.\u001b[0m\u001b[0m__traceback__\u001b[0m\u001b[0;34m)\u001b[0m\u001b[0;34m\u001b[0m\u001b[0;34m\u001b[0m\u001b[0m\n\u001b[0;32m---> 67\u001b[0;31m       \u001b[0;32mraise\u001b[0m \u001b[0me\u001b[0m\u001b[0;34m.\u001b[0m\u001b[0mwith_traceback\u001b[0m\u001b[0;34m(\u001b[0m\u001b[0mfiltered_tb\u001b[0m\u001b[0;34m)\u001b[0m \u001b[0;32mfrom\u001b[0m \u001b[0;32mNone\u001b[0m\u001b[0;34m\u001b[0m\u001b[0;34m\u001b[0m\u001b[0m\n\u001b[0m\u001b[1;32m     68\u001b[0m     \u001b[0;32mfinally\u001b[0m\u001b[0;34m:\u001b[0m\u001b[0;34m\u001b[0m\u001b[0;34m\u001b[0m\u001b[0m\n\u001b[1;32m     69\u001b[0m       \u001b[0;32mdel\u001b[0m \u001b[0mfiltered_tb\u001b[0m\u001b[0;34m\u001b[0m\u001b[0;34m\u001b[0m\u001b[0m\n",
            "\u001b[0;32m/usr/local/lib/python3.7/dist-packages/tensorflow/python/framework/constant_op.py\u001b[0m in \u001b[0;36mconvert_to_eager_tensor\u001b[0;34m(value, ctx, dtype)\u001b[0m\n\u001b[1;32m    100\u001b[0m       \u001b[0mdtype\u001b[0m \u001b[0;34m=\u001b[0m \u001b[0mdtypes\u001b[0m\u001b[0;34m.\u001b[0m\u001b[0mas_dtype\u001b[0m\u001b[0;34m(\u001b[0m\u001b[0mdtype\u001b[0m\u001b[0;34m)\u001b[0m\u001b[0;34m.\u001b[0m\u001b[0mas_datatype_enum\u001b[0m\u001b[0;34m\u001b[0m\u001b[0;34m\u001b[0m\u001b[0m\n\u001b[1;32m    101\u001b[0m   \u001b[0mctx\u001b[0m\u001b[0;34m.\u001b[0m\u001b[0mensure_initialized\u001b[0m\u001b[0;34m(\u001b[0m\u001b[0;34m)\u001b[0m\u001b[0;34m\u001b[0m\u001b[0;34m\u001b[0m\u001b[0m\n\u001b[0;32m--> 102\u001b[0;31m   \u001b[0;32mreturn\u001b[0m \u001b[0mops\u001b[0m\u001b[0;34m.\u001b[0m\u001b[0mEagerTensor\u001b[0m\u001b[0;34m(\u001b[0m\u001b[0mvalue\u001b[0m\u001b[0;34m,\u001b[0m \u001b[0mctx\u001b[0m\u001b[0;34m.\u001b[0m\u001b[0mdevice_name\u001b[0m\u001b[0;34m,\u001b[0m \u001b[0mdtype\u001b[0m\u001b[0;34m)\u001b[0m\u001b[0;34m\u001b[0m\u001b[0;34m\u001b[0m\u001b[0m\n\u001b[0m\u001b[1;32m    103\u001b[0m \u001b[0;34m\u001b[0m\u001b[0m\n\u001b[1;32m    104\u001b[0m \u001b[0;34m\u001b[0m\u001b[0m\n",
            "\u001b[0;31mValueError\u001b[0m: Failed to convert a NumPy array to a Tensor (Unsupported object type list)."
          ]
        }
      ]
    },
    {
      "cell_type": "code",
      "source": [
        "data_augmentation = keras.Sequential([\n",
        "    \n",
        "    layers.experimental.preprocessing.RandomZoom(0.2),\n",
        "    layers.experimental.preprocessing.RandomContrast(0.9),\n",
        "])"
      ],
      "metadata": {
        "id": "zcvv3qlW-NUf"
      },
      "execution_count": 66,
      "outputs": []
    },
    {
      "cell_type": "code",
      "source": [
        "plt.axis('off')\n",
        "plt.imshow(X[0])\n"
      ],
      "metadata": {
        "colab": {
          "base_uri": "https://localhost:8080/",
          "height": 265
        },
        "id": "UmXWB8QhAeiK",
        "outputId": "7514947e-2e3d-48ba-cce7-3b600a54d5e9"
      },
      "execution_count": 67,
      "outputs": [
        {
          "output_type": "execute_result",
          "data": {
            "text/plain": [
              "<matplotlib.image.AxesImage at 0x7f0f0cca9350>"
            ]
          },
          "metadata": {},
          "execution_count": 67
        },
        {
          "output_type": "display_data",
          "data": {
            "text/plain": [
              "<Figure size 432x288 with 1 Axes>"
            ],
            "image/png": "[encoded data removed]"
          },
          "metadata": {
            "needs_background": "light"
          }
        }
      ]
    },
    {
      "cell_type": "code",
      "source": [
        "plt.axis('off')\n",
        "plt.imshow(data_augmentation(X)[0].numpy().astype(\"uint8\"))"
      ],
      "metadata": {
        "colab": {
          "base_uri": "https://localhost:8080/",
          "height": 508
        },
        "id": "dYA09OjqAgjA",
        "outputId": "deeec8df-a191-4930-fe41-e4d8a5b5f264"
      },
      "execution_count": 68,
      "outputs": [
        {
          "output_type": "stream",
          "name": "stderr",
          "text": [
            "WARNING:tensorflow:Using a while_loop for converting RngReadAndSkip\n",
            "WARNING:tensorflow:Using a while_loop for converting Bitcast\n",
            "WARNING:tensorflow:Using a while_loop for converting Bitcast\n",
            "WARNING:tensorflow:Using a while_loop for converting StatelessRandomUniformFullIntV2\n",
            "WARNING:tensorflow:Using a while_loop for converting StatelessRandomGetKeyCounter\n",
            "WARNING:tensorflow:Using a while_loop for converting StatelessRandomUniformV2\n",
            "WARNING:tensorflow:Using a while_loop for converting AdjustContrastv2\n",
            "WARNING:tensorflow:Using a while_loop for converting RngReadAndSkip\n",
            "WARNING:tensorflow:Using a while_loop for converting Bitcast\n",
            "WARNING:tensorflow:Using a while_loop for converting Bitcast\n",
            "WARNING:tensorflow:Using a while_loop for converting StatelessRandomUniformFullIntV2\n",
            "WARNING:tensorflow:Using a while_loop for converting StatelessRandomGetKeyCounter\n",
            "WARNING:tensorflow:Using a while_loop for converting StatelessRandomUniformV2\n",
            "WARNING:tensorflow:Using a while_loop for converting AdjustContrastv2\n"
          ]
        },
        {
          "output_type": "execute_result",
          "data": {
            "text/plain": [
              "<matplotlib.image.AxesImage at 0x7f0f0c942710>"
            ]
          },
          "metadata": {},
          "execution_count": 68
        },
        {
          "output_type": "display_data",
          "data": {
            "text/plain": [
              "<Figure size 432x288 with 1 Axes>"
            ],
            "image/png": "[encoded data removed]"
          },
          "metadata": {
            "needs_background": "light"
          }
        }
      ]
    }
  ]
}